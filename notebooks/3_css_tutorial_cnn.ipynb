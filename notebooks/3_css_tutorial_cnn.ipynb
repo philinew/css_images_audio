{
  "nbformat": 4,
  "nbformat_minor": 0,
  "metadata": {
    "colab": {
      "provenance": []
    },
    "kernelspec": {
      "name": "python3",
      "display_name": "Python 3"
    },
    "language_info": {
      "name": "python"
    }
  },
  "cells": [
    {
      "cell_type": "markdown",
      "source": [
        "In this tutorial, we will refine a CNN for a prediction task.\n",
        "\n",
        "Specifically, we will look at images from Xinhua on the one hand, and images from the NYT and BBC on the other (i.e., NYT and BBC are combined into one class). Thus, we look at the following classification task: Based on an image, can we guess its outlet correctly (Xinhua vs. NYT/BBC)?\n",
        "\n",
        "We will use Resnet50 for this purpose."
      ],
      "metadata": {
        "id": "_XhR6kzqjx_4"
      }
    },
    {
      "cell_type": "markdown",
      "source": [
        "Before we start, a few notes on the data and the preprocessing.\n",
        "\n",
        "For this dataset, I collected all links to online articles (i) in major Chinese news outlets and (ii) the NYT/BBC between 2020 and 2022. I filtered the NYT/BBC articles for mentions of \"China\", \"Chinese\", or \"Xi Jinping\". Hence, we have two different corpora with a focus on China. In this task, let us investigate what we can learn from the images in these articles alone. As you can image, there are *many* more images in these outlets published (2020-2022) than what is in our folder. However, to keep the Google Drive lean and computations reasonable, I only uploaded a sample.\n",
        "\n",
        "When downloading the raw images from the different news websites, they come in very different sizes and shapes. I already resized or cropped all images to 224 x 224 pixels, for two reasons:\n",
        "- 224 x 224 is a relatively small image, which is convenient to keep the Drive storage requirements reasonable.\n",
        "- The specific values of 224 x 224 are required by Resnet50. In fact, Resnet50, when pre-trained on the ImageNet dataset, was originally trained with input images of this size. Thus, it is important to maintain this dimensionality to fully profit from the model's learned features and achieve optimal performance.\n",
        "\n",
        "First, I determined whether the image's dimensions were smaller than 224 on either side. If either dimension was found to be smaller, I padded the deficit with black pixels (i.e., 0 padding), using ImageOps from the Pillow library in Python.\n",
        "\n",
        "Next, I ascertained if the (potentially padded) image was quadratic in shape. If it was, I simply resized it to 224 x 224 pixels using the resize function from Pillow's Image module. If the image was not square, I employed a \"random crop\" technique. This means I randomly selected a 224 x 224 pixel section from the rectangular image. To ensure the crop remained within the image's boundaries, I picked random coordinates that stayed within the confines of the original image dimensions. This cropping was done using the crop function from the Image module. Finally, I saved all the processed images in the PNG format.\n",
        "\n",
        "Can you think of any pros or cons of this preprocessing? How could you proceed differently/better?"
      ],
      "metadata": {
        "id": "GUpCZqNXlqHm"
      }
    },
    {
      "cell_type": "code",
      "source": [
        "# We will need tensorflow, usually preinstalled on Colab\n",
        "# !pip install tensorflow"
      ],
      "metadata": {
        "id": "MyAepJqHfyEO"
      },
      "execution_count": 1,
      "outputs": []
    },
    {
      "cell_type": "code",
      "source": [
        "from google.colab import drive\n",
        "drive.mount('/content/drive')"
      ],
      "metadata": {
        "colab": {
          "base_uri": "https://localhost:8080/"
        },
        "id": "0XxQV042oH1A",
        "outputId": "c716df5c-c6f0-4949-a530-a1d92eb6d061"
      },
      "execution_count": 2,
      "outputs": [
        {
          "output_type": "stream",
          "name": "stdout",
          "text": [
            "Drive already mounted at /content/drive; to attempt to forcibly remount, call drive.mount(\"/content/drive\", force_remount=True).\n"
          ]
        }
      ]
    },
    {
      "cell_type": "code",
      "source": [
        "# To import the images here, you will have to create a copy of the following shared folder in your own Drive:\n",
        "# https://drive.google.com/drive/folders/1SpCfkA7Jp95q2z4JwM9IfANUQfBGV40x?usp=sharing\n",
        "# Then, you can mount that folder"
      ],
      "metadata": {
        "id": "po_PIg1AZuRf"
      },
      "execution_count": 3,
      "outputs": []
    },
    {
      "cell_type": "code",
      "source": [
        "import os\n",
        "os.chdir('/content/drive/MyDrive/css_images_small/')"
      ],
      "metadata": {
        "id": "9k3a6RwboH3m"
      },
      "execution_count": 4,
      "outputs": []
    },
    {
      "cell_type": "code",
      "source": [
        "china_dir = 'preprocessed_images_china_random_small'\n",
        "nyt_dir ='preprocessed_images_nyt_random_small'"
      ],
      "metadata": {
        "id": "xdLahR23hJeC"
      },
      "execution_count": 9,
      "outputs": []
    },
    {
      "cell_type": "code",
      "source": [
        "import os\n",
        "import sys\n",
        "import random\n",
        "import numpy as np\n",
        "from sklearn.metrics import confusion_matrix\n",
        "from sklearn.model_selection import train_test_split\n",
        "from tensorflow.keras.applications.resnet50 import ResNet50, preprocess_input\n",
        "from tensorflow.keras.layers import Dense, GlobalAveragePooling2D\n",
        "from tensorflow.keras.models import Model\n",
        "from tensorflow.keras.optimizers import Adam\n",
        "from tensorflow.keras.preprocessing.image import img_to_array, load_img"
      ],
      "metadata": {
        "id": "tCQKyEJSoH-o"
      },
      "execution_count": 6,
      "outputs": []
    },
    {
      "cell_type": "code",
      "source": [
        "# We need to load and further preprocess the images\n",
        "# In this case, we already resized them to 224 x 224\n",
        "# However, we still need to normalize the pixel values channel-wise\n",
        "# Also, Resnet assumes BGR, while images are typically read as RGB\n",
        "def load_and_preprocess_images(image_dir, n=500):\n",
        "    image_paths = [os.path.join(image_dir, fname) for fname in os.listdir(image_dir)]\n",
        "    # Randomly select n image paths\n",
        "    # The number of images in the two directories may not always be perfectly balanced\n",
        "    # By taking a random sample of n each, we enforce balance\n",
        "    # Make sure that n is not larger than the available images\n",
        "    random.seed(42)  # Setting the seed to some fixed number (so that we can get the same images again later)\n",
        "    selected_image_paths = random.sample(image_paths, min(n, len(image_paths)))\n",
        "    data = []\n",
        "    for img_path in selected_image_paths:\n",
        "        img = load_img(img_path)\n",
        "        x = img_to_array(img)\n",
        "        x = preprocess_input(x)\n",
        "        data.append(x)\n",
        "    return np.array(data)"
      ],
      "metadata": {
        "id": "DLZDPAiTgnQP"
      },
      "execution_count": 10,
      "outputs": []
    },
    {
      "cell_type": "code",
      "source": [
        "china_data = load_and_preprocess_images(china_dir)\n",
        "nyt_data = load_and_preprocess_images(nyt_dir)"
      ],
      "metadata": {
        "colab": {
          "base_uri": "https://localhost:8080/"
        },
        "id": "btqCVno_oIAy",
        "outputId": "a2316c57-96f7-4dbf-e10d-aba1033eb8c7"
      },
      "execution_count": 11,
      "outputs": [
        {
          "output_type": "stream",
          "name": "stderr",
          "text": [
            "/usr/local/lib/python3.10/dist-packages/PIL/Image.py:996: UserWarning: Palette images with Transparency expressed in bytes should be converted to RGBA images\n",
            "  warnings.warn(\n"
          ]
        }
      ]
    },
    {
      "cell_type": "code",
      "source": [
        "# We might want to shuffle the data to make sure that no potential ordering of the files could pose a problem\n",
        "# Randomly shuffle and undersample\n",
        "# np.random.shuffle(nyt_data)\n",
        "# np.random.shuffle(china_data)\n",
        "\n",
        "# (Not necessary here because I already shuffled the images when making a small sample for the class)"
      ],
      "metadata": {
        "id": "87M2zR3HoIDM"
      },
      "execution_count": null,
      "outputs": []
    },
    {
      "cell_type": "code",
      "source": [
        "# Concatenate the data from both directories and create labels (China=1, NYT=0)\n",
        "X = np.concatenate([china_data, nyt_data])\n",
        "y = np.concatenate([np.ones(len(china_data)), np.zeros(len(nyt_data))])"
      ],
      "metadata": {
        "id": "mlNjRCEIoIFV"
      },
      "execution_count": 12,
      "outputs": []
    },
    {
      "cell_type": "code",
      "source": [
        "# Next, let's split the data into training and test sets\n",
        "X_train, X_test, y_train, y_test = train_test_split(X, y, test_size=0.2, random_state=42)"
      ],
      "metadata": {
        "id": "zIwPwcGEjkDY"
      },
      "execution_count": 13,
      "outputs": []
    },
    {
      "cell_type": "code",
      "source": [
        "# Define the model: Resnet50 is a pre-trained deep learning model from Microsoft\n",
        "#  It can be used for various computer vision tasks, including classification (here)!\n",
        "\n",
        "base_model = ResNet50(weights='imagenet', include_top=False)\n",
        "\n",
        "x = base_model.output\n",
        "x = GlobalAveragePooling2D()(x)\n",
        "x = Dense(1024, activation='relu')(x)\n",
        "predictions = Dense(1, activation='sigmoid')(x)\n",
        "\n",
        "model = Model(inputs=base_model.input, outputs=predictions)\n",
        "\n",
        "# This is an important argument\n",
        "#\n",
        "for layer in base_model.layers:\n",
        "    layer.trainable = False\n",
        "\n",
        "model.compile(optimizer=Adam(learning_rate=0.0001), loss='binary_crossentropy', metrics=['accuracy'])"
      ],
      "metadata": {
        "id": "H_eDZC7BkVPB"
      },
      "execution_count": 16,
      "outputs": []
    },
    {
      "cell_type": "code",
      "source": [
        "# Note that 50 refers to the layers with trainable weights\n",
        "# The total layer number is higher\n",
        "# In fact, if we check the length of base_model.layers, the number also includes batch normalization, activation, pooling, etc.\n",
        "print(len(base_model.layers))"
      ],
      "metadata": {
        "colab": {
          "base_uri": "https://localhost:8080/"
        },
        "id": "DXC3Qziwj-qn",
        "outputId": "36e4058c-3455-401d-9071-854ad0ed84c7"
      },
      "execution_count": 17,
      "outputs": [
        {
          "output_type": "stream",
          "name": "stdout",
          "text": [
            "175\n"
          ]
        }
      ]
    },
    {
      "cell_type": "code",
      "source": [
        "# Let us train the model\n",
        "# Here, we will simply use a CPU and the code will run relatively fast (it takes a couple of minutes)\n",
        "# This is because we have designed the task to be super lightweight:\n",
        "# Only the weights of the added dense layers are updated (recall that we set the base model's layers to non-trainable, essentially keeping the pre-trained ResNet weights)\n",
        "# Also, our data sample is teeny tiny\n",
        "history = model.fit(X_train, y_train, validation_data=(X_test, y_test), epochs=5, batch_size=32)"
      ],
      "metadata": {
        "colab": {
          "base_uri": "https://localhost:8080/"
        },
        "id": "rfWqulhNlEzo",
        "outputId": "b3a57f3b-ab75-4ddf-eac7-6ed04a6aa7de"
      },
      "execution_count": 18,
      "outputs": [
        {
          "output_type": "stream",
          "name": "stdout",
          "text": [
            "Epoch 1/5\n",
            "25/25 [==============================] - 291s 12s/step - loss: 0.6752 - accuracy: 0.6025 - val_loss: 0.6691 - val_accuracy: 0.6100\n",
            "Epoch 2/5\n",
            "25/25 [==============================] - 214s 9s/step - loss: 0.4116 - accuracy: 0.8250 - val_loss: 0.6580 - val_accuracy: 0.6700\n",
            "Epoch 3/5\n",
            "25/25 [==============================] - 205s 8s/step - loss: 0.3061 - accuracy: 0.9062 - val_loss: 0.6394 - val_accuracy: 0.6200\n",
            "Epoch 4/5\n",
            "25/25 [==============================] - 251s 10s/step - loss: 0.2463 - accuracy: 0.9488 - val_loss: 0.6457 - val_accuracy: 0.6400\n",
            "Epoch 5/5\n",
            "25/25 [==============================] - 244s 10s/step - loss: 0.1967 - accuracy: 0.9712 - val_loss: 0.6596 - val_accuracy: 0.6200\n"
          ]
        }
      ]
    },
    {
      "cell_type": "code",
      "source": [
        "# Now, let us create a confusion matrix for all images in the directory that were not seen yet by the model\n",
        "\n",
        "# Get all image paths from the directories\n",
        "all_china_images = [os.path.join(china_dir, fname) for fname in os.listdir(china_dir)]\n",
        "all_nyt_images = [os.path.join(nyt_dir, fname) for fname in os.listdir(nyt_dir)]\n",
        "\n",
        "# Get the paths of images that we used in training (by using the same seed)\n",
        "random.seed(42)\n",
        "selected_china_images = random.sample(all_china_images, 500)\n",
        "random.seed(42)\n",
        "selected_nyt_images = random.sample(all_nyt_images, 500)\n",
        "\n",
        "# Identify the images we have not seen yet\n",
        "remaining_china_images = list(set(all_china_images) - set(selected_china_images))\n",
        "remaining_nyt_images = list(set(all_nyt_images) - set(selected_nyt_images))\n",
        "\n",
        "# If you want things to run faster, only take a subset of these\n",
        "remaining_china_images = list(set(all_china_images) - set(selected_china_images))[0:500]\n",
        "remaining_nyt_images = list(set(all_nyt_images) - set(selected_nyt_images))[0:500]"
      ],
      "metadata": {
        "id": "1Plj2CfVsX1p"
      },
      "execution_count": 19,
      "outputs": []
    },
    {
      "cell_type": "code",
      "source": [
        "# Let us define a function to predict the class of a given image\n",
        "def predict_class(model, img_path):\n",
        "    img = load_img(img_path)\n",
        "    x = img_to_array(img)\n",
        "    x = np.expand_dims(x, axis=0)\n",
        "    x = preprocess_input(x)\n",
        "    predictions = model.predict(x)\n",
        "    return 1 if predictions[0][0] > 0.5 else 0"
      ],
      "metadata": {
        "id": "SA0IAISIsWhM"
      },
      "execution_count": 20,
      "outputs": []
    },
    {
      "cell_type": "code",
      "source": [
        "# Now, predict for all unseen images\n",
        "predicted_labels = []\n",
        "true_labels = []\n",
        "\n",
        "# Suppress the standard output to avoid tons of print statements\n",
        "# You can outcomment the next two lines if you prefer things verbose\n",
        "# (Then, you would also have to outcomment the last line in this cell)\n",
        "original_stdout = sys.stdout\n",
        "sys.stdout = open(os.devnull, 'w')\n",
        "\n",
        "for img_path in remaining_china_images:\n",
        "    try:\n",
        "      predicted_labels.append(predict_class(model, img_path))\n",
        "      true_labels.append(1) # Recall that \"China\" is class 1\n",
        "    except:\n",
        "      print('Faulty image.')\n",
        "\n",
        "for img_path in remaining_nyt_images:\n",
        "    try:\n",
        "      predicted_labels.append(predict_class(model, img_path))\n",
        "      true_labels.append(0) # Recall that \"NYT\" is class 0\n",
        "    except:\n",
        "      print('Faulty image.')\n",
        "\n",
        "# Return to printing the standard output\n",
        "sys.stdout = original_stdout"
      ],
      "metadata": {
        "id": "a_P9iXetupGe"
      },
      "execution_count": 21,
      "outputs": []
    },
    {
      "cell_type": "code",
      "source": [
        "# Generate the confusion matrix\n",
        "confusion = confusion_matrix(true_labels, predicted_labels)\n",
        "print(confusion)"
      ],
      "metadata": {
        "colab": {
          "base_uri": "https://localhost:8080/"
        },
        "id": "vJHESrV5YR8E",
        "outputId": "86ad5e1a-c884-4835-bd79-6ed53b1f3809"
      },
      "execution_count": 22,
      "outputs": [
        {
          "output_type": "stream",
          "name": "stdout",
          "text": [
            "[[336 164]\n",
            " [147 353]]\n"
          ]
        }
      ]
    },
    {
      "cell_type": "code",
      "source": [
        "# Plot the confusion matrix nicely\n",
        "import matplotlib.pyplot as plt\n",
        "import seaborn as sns\n",
        "\n",
        "def plot_confusion_matrix(confusion, class_names):\n",
        "    fig, ax = plt.subplots(figsize=(10, 7))  # Set the figure size\n",
        "    sns.heatmap(confusion, annot=True, fmt='g', cmap='Blues', cbar=False,\n",
        "                xticklabels=class_names, yticklabels=class_names, ax=ax)\n",
        "    plt.ylabel('Actual')\n",
        "    plt.xlabel('Predicted')\n",
        "    plt.title('Confusion Matrix')\n",
        "    plt.show()\n",
        "\n",
        "# Class names for your binary classification\n",
        "class_names = ['NYT', 'China']\n",
        "\n",
        "# Plot the confusion matrix\n",
        "plot_confusion_matrix(confusion, class_names)"
      ],
      "metadata": {
        "colab": {
          "base_uri": "https://localhost:8080/",
          "height": 641
        },
        "id": "wFlikpMf0_cW",
        "outputId": "38470d30-a1af-4e99-b529-313ae6f7a3ff"
      },
      "execution_count": 23,
      "outputs": [
        {
          "output_type": "display_data",
          "data": {
            "text/plain": [
              "<Figure size 1000x700 with 1 Axes>"
            ],
            "image/png": "[encoded data removed]"
          },
          "metadata": {}
        }
      ]
    }
  ]
}